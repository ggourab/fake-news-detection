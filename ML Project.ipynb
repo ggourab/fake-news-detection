{
 "cells": [
  {
   "cell_type": "code",
   "execution_count": 1,
   "metadata": {},
   "outputs": [],
   "source": [
    "#import all libraries\n",
    "import numpy as np\n",
    "import pandas as pd\n",
    "import itertools\n",
    "from sklearn.model_selection import train_test_split\n",
    "from sklearn.feature_extraction.text import TfidfVectorizer\n",
    "from sklearn.feature_extraction.text import CountVectorizer\n",
    "from sklearn.linear_model import PassiveAggressiveClassifier\n",
    "from sklearn.naive_bayes import MultinomialNB\n",
    "from sklearn.metrics import accuracy_score, confusion_matrix\n",
    "from sklearn import metrics\n",
    "import seaborn as sn\n",
    "import matplotlib.pyplot as plt"
   ]
  },
  {
   "cell_type": "code",
   "execution_count": 2,
   "metadata": {},
   "outputs": [
    {
     "name": "stdout",
     "output_type": "stream",
     "text": [
      "(6335, 4)\n"
     ]
    },
    {
     "data": {
      "text/html": [
       "<div>\n",
       "<style scoped>\n",
       "    .dataframe tbody tr th:only-of-type {\n",
       "        vertical-align: middle;\n",
       "    }\n",
       "\n",
       "    .dataframe tbody tr th {\n",
       "        vertical-align: top;\n",
       "    }\n",
       "\n",
       "    .dataframe thead th {\n",
       "        text-align: right;\n",
       "    }\n",
       "</style>\n",
       "<table border=\"1\" class=\"dataframe\">\n",
       "  <thead>\n",
       "    <tr style=\"text-align: right;\">\n",
       "      <th></th>\n",
       "      <th>Unnamed: 0</th>\n",
       "      <th>title</th>\n",
       "      <th>text</th>\n",
       "      <th>label</th>\n",
       "    </tr>\n",
       "  </thead>\n",
       "  <tbody>\n",
       "    <tr>\n",
       "      <td>0</td>\n",
       "      <td>8476</td>\n",
       "      <td>You Can Smell Hillary’s Fear</td>\n",
       "      <td>Daniel Greenfield, a Shillman Journalism Fello...</td>\n",
       "      <td>FAKE</td>\n",
       "    </tr>\n",
       "    <tr>\n",
       "      <td>1</td>\n",
       "      <td>10294</td>\n",
       "      <td>Watch The Exact Moment Paul Ryan Committed Pol...</td>\n",
       "      <td>Google Pinterest Digg Linkedin Reddit Stumbleu...</td>\n",
       "      <td>FAKE</td>\n",
       "    </tr>\n",
       "    <tr>\n",
       "      <td>2</td>\n",
       "      <td>3608</td>\n",
       "      <td>Kerry to go to Paris in gesture of sympathy</td>\n",
       "      <td>U.S. Secretary of State John F. Kerry said Mon...</td>\n",
       "      <td>REAL</td>\n",
       "    </tr>\n",
       "    <tr>\n",
       "      <td>3</td>\n",
       "      <td>10142</td>\n",
       "      <td>Bernie supporters on Twitter erupt in anger ag...</td>\n",
       "      <td>— Kaydee King (@KaydeeKing) November 9, 2016 T...</td>\n",
       "      <td>FAKE</td>\n",
       "    </tr>\n",
       "    <tr>\n",
       "      <td>4</td>\n",
       "      <td>875</td>\n",
       "      <td>The Battle of New York: Why This Primary Matters</td>\n",
       "      <td>It's primary day in New York and front-runners...</td>\n",
       "      <td>REAL</td>\n",
       "    </tr>\n",
       "  </tbody>\n",
       "</table>\n",
       "</div>"
      ],
      "text/plain": [
       "   Unnamed: 0                                              title  \\\n",
       "0        8476                       You Can Smell Hillary’s Fear   \n",
       "1       10294  Watch The Exact Moment Paul Ryan Committed Pol...   \n",
       "2        3608        Kerry to go to Paris in gesture of sympathy   \n",
       "3       10142  Bernie supporters on Twitter erupt in anger ag...   \n",
       "4         875   The Battle of New York: Why This Primary Matters   \n",
       "\n",
       "                                                text label  \n",
       "0  Daniel Greenfield, a Shillman Journalism Fello...  FAKE  \n",
       "1  Google Pinterest Digg Linkedin Reddit Stumbleu...  FAKE  \n",
       "2  U.S. Secretary of State John F. Kerry said Mon...  REAL  \n",
       "3  — Kaydee King (@KaydeeKing) November 9, 2016 T...  FAKE  \n",
       "4  It's primary day in New York and front-runners...  REAL  "
      ]
     },
     "execution_count": 2,
     "metadata": {},
     "output_type": "execute_result"
    }
   ],
   "source": [
    "#read the data\n",
    "df=pd.read_csv(r'C:\\Users\\GOURAV\\Documents\\ML Project\\news.csv')\n",
    "#get shape and head\n",
    "df.shape\n",
    "print(df.shape)\n",
    "df.head()"
   ]
  },
  {
   "cell_type": "code",
   "execution_count": 3,
   "metadata": {},
   "outputs": [
    {
     "data": {
      "text/plain": [
       "0    FAKE\n",
       "1    FAKE\n",
       "2    REAL\n",
       "3    FAKE\n",
       "4    REAL\n",
       "Name: label, dtype: object"
      ]
     },
     "execution_count": 3,
     "metadata": {},
     "output_type": "execute_result"
    }
   ],
   "source": [
    "#newsdata - get the labels\n",
    "labels=df.label\n",
    "labels.head()"
   ]
  },
  {
   "cell_type": "code",
   "execution_count": 4,
   "metadata": {},
   "outputs": [
    {
     "data": {
      "text/plain": [
       "REAL    3171\n",
       "FAKE    3164\n",
       "Name: label, dtype: int64"
      ]
     },
     "execution_count": 4,
     "metadata": {},
     "output_type": "execute_result"
    }
   ],
   "source": [
    "#to check if the data is equally balanced between the labels\n",
    "df['label'].value_counts()"
   ]
  },
  {
   "cell_type": "code",
   "execution_count": 5,
   "metadata": {},
   "outputs": [
    {
     "data": {
      "image/png": "[encoded data removed]",
      "text/plain": [
       "<Figure size 432x288 with 1 Axes>"
      ]
     },
     "metadata": {
      "needs_background": "light"
     },
     "output_type": "display_data"
    }
   ],
   "source": [
    "#plotting of data\n",
    "df['label'].value_counts().plot(kind='barh')\n",
    "plt.ylabel('Labels')\n",
    "plt.xlabel('Counts')\n",
    "plt.title('Count of Label')\n",
    "x=[\"FAKE\",\"REAL\"]\n",
    "y=[3171,3164]\n",
    "for index,value in enumerate(y):\n",
    "    plt.text(value,index,str(value))"
   ]
  },
  {
   "cell_type": "code",
   "execution_count": 6,
   "metadata": {},
   "outputs": [],
   "source": [
    "df = df.set_index('Unnamed: 0')"
   ]
  },
  {
   "cell_type": "code",
   "execution_count": 7,
   "metadata": {},
   "outputs": [
    {
     "data": {
      "text/html": [
       "<div>\n",
       "<style scoped>\n",
       "    .dataframe tbody tr th:only-of-type {\n",
       "        vertical-align: middle;\n",
       "    }\n",
       "\n",
       "    .dataframe tbody tr th {\n",
       "        vertical-align: top;\n",
       "    }\n",
       "\n",
       "    .dataframe thead th {\n",
       "        text-align: right;\n",
       "    }\n",
       "</style>\n",
       "<table border=\"1\" class=\"dataframe\">\n",
       "  <thead>\n",
       "    <tr style=\"text-align: right;\">\n",
       "      <th></th>\n",
       "      <th>title</th>\n",
       "      <th>text</th>\n",
       "      <th>label</th>\n",
       "    </tr>\n",
       "    <tr>\n",
       "      <th>Unnamed: 0</th>\n",
       "      <th></th>\n",
       "      <th></th>\n",
       "      <th></th>\n",
       "    </tr>\n",
       "  </thead>\n",
       "  <tbody>\n",
       "    <tr>\n",
       "      <td>8476</td>\n",
       "      <td>You Can Smell Hillary’s Fear</td>\n",
       "      <td>Daniel Greenfield, a Shillman Journalism Fello...</td>\n",
       "      <td>FAKE</td>\n",
       "    </tr>\n",
       "    <tr>\n",
       "      <td>10294</td>\n",
       "      <td>Watch The Exact Moment Paul Ryan Committed Pol...</td>\n",
       "      <td>Google Pinterest Digg Linkedin Reddit Stumbleu...</td>\n",
       "      <td>FAKE</td>\n",
       "    </tr>\n",
       "    <tr>\n",
       "      <td>3608</td>\n",
       "      <td>Kerry to go to Paris in gesture of sympathy</td>\n",
       "      <td>U.S. Secretary of State John F. Kerry said Mon...</td>\n",
       "      <td>REAL</td>\n",
       "    </tr>\n",
       "    <tr>\n",
       "      <td>10142</td>\n",
       "      <td>Bernie supporters on Twitter erupt in anger ag...</td>\n",
       "      <td>— Kaydee King (@KaydeeKing) November 9, 2016 T...</td>\n",
       "      <td>FAKE</td>\n",
       "    </tr>\n",
       "    <tr>\n",
       "      <td>875</td>\n",
       "      <td>The Battle of New York: Why This Primary Matters</td>\n",
       "      <td>It's primary day in New York and front-runners...</td>\n",
       "      <td>REAL</td>\n",
       "    </tr>\n",
       "  </tbody>\n",
       "</table>\n",
       "</div>"
      ],
      "text/plain": [
       "                                                        title  \\\n",
       "Unnamed: 0                                                      \n",
       "8476                             You Can Smell Hillary’s Fear   \n",
       "10294       Watch The Exact Moment Paul Ryan Committed Pol...   \n",
       "3608              Kerry to go to Paris in gesture of sympathy   \n",
       "10142       Bernie supporters on Twitter erupt in anger ag...   \n",
       "875          The Battle of New York: Why This Primary Matters   \n",
       "\n",
       "                                                         text label  \n",
       "Unnamed: 0                                                           \n",
       "8476        Daniel Greenfield, a Shillman Journalism Fello...  FAKE  \n",
       "10294       Google Pinterest Digg Linkedin Reddit Stumbleu...  FAKE  \n",
       "3608        U.S. Secretary of State John F. Kerry said Mon...  REAL  \n",
       "10142       — Kaydee King (@KaydeeKing) November 9, 2016 T...  FAKE  \n",
       "875         It's primary day in New York and front-runners...  REAL  "
      ]
     },
     "execution_count": 7,
     "metadata": {},
     "output_type": "execute_result"
    }
   ],
   "source": [
    "df"
   ]
  },
  {
   "cell_type": "code",
   "execution_count": 8,
   "metadata": {},
   "outputs": [],
   "source": [
    "#newsdata - split the dataset\n",
    "x_train,x_test,y_train,y_test=train_test_split(df['text'], labels, test_size=0.2, random_state=7)"
   ]
  },
  {
   "cell_type": "code",
   "execution_count": 9,
   "metadata": {},
   "outputs": [],
   "source": [
    "#newsdata - initialize a TfidfVectorizer\n",
    "tfidf_vectorizer=TfidfVectorizer(stop_words='english', max_df=0.7)\n",
    "#newsdata - Fit and transform train set, transform test set\n",
    "tfidf_train=tfidf_vectorizer.fit_transform(x_train) \n",
    "tfidf_test=tfidf_vectorizer.transform(x_test)"
   ]
  },
  {
   "cell_type": "code",
   "execution_count": 10,
   "metadata": {},
   "outputs": [],
   "source": [
    "#newsdata - initialize a CountVectorizer\n",
    "count_vectorizer=CountVectorizer(stop_words='english')\n",
    "#newsdata - Fit and transform train set, transform test set\n",
    "count_train=count_vectorizer.fit_transform(x_train) \n",
    "count_test=count_vectorizer.transform(x_test)"
   ]
  },
  {
   "cell_type": "code",
   "execution_count": 11,
   "metadata": {},
   "outputs": [],
   "source": [
    "#Evaluation of Model - Confusion Matrix Plot\n",
    "def plot_confusion_matrix(cm, classes,\n",
    "                          normalize=False,\n",
    "                          title='Confusion matrix',\n",
    "                          cmap=plt.cm.Blues):\n",
    "    \"\"\"\n",
    "    See full source and example: \n",
    "    http://scikit-learn.org/stable/auto_examples/model_selection/plot_confusion_matrix.html\n",
    "    \n",
    "    This function prints and plots the confusion matrix.\n",
    "    Normalization can be applied by setting `normalize=True`.\n",
    "    \"\"\"\n",
    "    plt.imshow(cm, interpolation='nearest', cmap=cmap)\n",
    "    plt.title(title)\n",
    "    plt.colorbar()\n",
    "    tick_marks = np.arange(len(classes))\n",
    "    plt.xticks(tick_marks, classes, rotation=45)\n",
    "    plt.yticks(tick_marks, classes)\n",
    "\n",
    "    if normalize:\n",
    "        cm = cm.astype('float') / cm.sum(axis=1)[:, np.newaxis]\n",
    "        print(\"Normalized confusion matrix\")\n",
    "    else:\n",
    "        print('Confusion matrix, without normalization')\n",
    "\n",
    "    thresh = cm.max() / 2.\n",
    "    for i, j in itertools.product(range(cm.shape[0]), range(cm.shape[1])):\n",
    "        plt.text(j, i, cm[i, j],\n",
    "                 horizontalalignment=\"center\",\n",
    "                 color=\"white\" if cm[i, j] > thresh else \"black\")\n",
    "\n",
    "    plt.tight_layout()\n",
    "    plt.ylabel('True label')\n",
    "    plt.xlabel('Predicted label')"
   ]
  },
  {
   "cell_type": "code",
   "execution_count": 12,
   "metadata": {},
   "outputs": [],
   "source": [
    "#initialize a MultinomialNBClassifier\n",
    "clf = MultinomialNB(alpha=0.1)"
   ]
  },
  {
   "cell_type": "code",
   "execution_count": 13,
   "metadata": {},
   "outputs": [
    {
     "name": "stdout",
     "output_type": "stream",
     "text": [
      "accuracy:   0.904\n",
      "[[549  89]\n",
      " [ 32 597]]\n",
      "Confusion matrix, without normalization\n"
     ]
    },
    {
     "data": {
      "image/png": "[encoded data removed]",
      "text/plain": [
       "<Figure size 432x288 with 2 Axes>"
      ]
     },
     "metadata": {
      "needs_background": "light"
     },
     "output_type": "display_data"
    }
   ],
   "source": [
    "#newsdata - initialize a MultinomialNBClassifier for TfidfVectorizer\n",
    "clf.fit(tfidf_train, y_train)\n",
    "pred = clf.predict(tfidf_test)\n",
    "score = metrics.accuracy_score(y_test, pred)\n",
    "print(\"accuracy:   %0.3f\" % score)\n",
    "cm = metrics.confusion_matrix(y_test, pred, labels=['FAKE', 'REAL'])\n",
    "# Compute confusion matrix for CountVectorizer\n",
    "cnf_matrix1 = confusion_matrix(y_test, pred)\n",
    "print(cnf_matrix1)\n",
    "plot_confusion_matrix(cm, classes=['FAKE', 'REAL'])"
   ]
  },
  {
   "cell_type": "code",
   "execution_count": 14,
   "metadata": {},
   "outputs": [
    {
     "name": "stdout",
     "output_type": "stream",
     "text": [
      "True Negatives:  549\n",
      "False Positives:  89\n",
      "False Negatives:  32\n",
      "True Positives:  597\n"
     ]
    }
   ],
   "source": [
    "#extracting true_positives, false_positives, true_negatives, false_negatives\n",
    "tn, fp, fn, tp = confusion_matrix(y_test, pred).ravel()\n",
    "print(\"True Negatives: \",tn)\n",
    "print(\"False Positives: \",fp)\n",
    "print(\"False Negatives: \",fn)\n",
    "print(\"True Positives: \",tp)"
   ]
  },
  {
   "cell_type": "code",
   "execution_count": 15,
   "metadata": {},
   "outputs": [
    {
     "name": "stdout",
     "output_type": "stream",
     "text": [
      "Precision: 0.8703\n",
      "Recall: 0.9491\n",
      "f1 Score: 0.9080\n",
      "Specificity: 0.8605\n"
     ]
    }
   ],
   "source": [
    "#Precision \n",
    "Precision = tp/(tp+fp)\n",
    "print(\"Precision: {:0.4f}\".format(Precision))\n",
    "#Recall \n",
    "Recall = tp/(tp+fn) \n",
    "print(\"Recall: {:0.4f}\".format(Recall))\n",
    "#f1 Score\n",
    "f1 = (2*Precision*Recall)/(Precision + Recall)\n",
    "print(\"f1 Score: {:0.4f}\".format(f1))\n",
    "#Specificity \n",
    "Specificity = tn/(tn+fp)\n",
    "print(\"Specificity: {:0.4f}\".format(Specificity))"
   ]
  },
  {
   "cell_type": "code",
   "execution_count": 16,
   "metadata": {},
   "outputs": [
    {
     "name": "stdout",
     "output_type": "stream",
     "text": [
      "accuracy:   0.896\n",
      "[[552  86]\n",
      " [ 46 583]]\n",
      "Confusion matrix, without normalization\n"
     ]
    },
    {
     "data": {
      "image/png": "[encoded data removed]",
      "text/plain": [
       "<Figure size 432x288 with 2 Axes>"
      ]
     },
     "metadata": {
      "needs_background": "light"
     },
     "output_type": "display_data"
    }
   ],
   "source": [
    "#newsdata - initialize a MultinomialNBClassifier for CountVectorizer\n",
    "clf.fit(count_train, y_train)\n",
    "pred = clf.predict(count_test)\n",
    "score = metrics.accuracy_score(y_test, pred)\n",
    "print(\"accuracy:   %0.3f\" % score)\n",
    "cm = metrics.confusion_matrix(y_test, pred, labels=['FAKE', 'REAL'])\n",
    "# Compute confusion matrix for CountVectorizer\n",
    "cnf_matrix2 = confusion_matrix(y_test, pred)\n",
    "print(cnf_matrix2)\n",
    "plot_confusion_matrix(cm, classes=['FAKE', 'REAL'])"
   ]
  },
  {
   "cell_type": "code",
   "execution_count": 17,
   "metadata": {},
   "outputs": [
    {
     "name": "stdout",
     "output_type": "stream",
     "text": [
      "True Negatives:  552\n",
      "False Positives:  86\n",
      "False Negatives:  46\n",
      "True Positives:  583\n"
     ]
    }
   ],
   "source": [
    "#extracting true_positives, false_positives, true_negatives, false_negatives\n",
    "tn, fp, fn, tp = confusion_matrix(y_test, pred).ravel()\n",
    "print(\"True Negatives: \",tn)\n",
    "print(\"False Positives: \",fp)\n",
    "print(\"False Negatives: \",fn)\n",
    "print(\"True Positives: \",tp)"
   ]
  },
  {
   "cell_type": "code",
   "execution_count": 18,
   "metadata": {},
   "outputs": [
    {
     "name": "stdout",
     "output_type": "stream",
     "text": [
      "Precision: 0.8714\n",
      "Recall: 0.9269\n",
      "f1 Score: 0.8983\n",
      "Specificity: 0.8652\n"
     ]
    }
   ],
   "source": [
    "#Precision \n",
    "Precision = tp/(tp+fp)\n",
    "print(\"Precision: {:0.4f}\".format(Precision))\n",
    "#Recall \n",
    "Recall = tp/(tp+fn) \n",
    "print(\"Recall: {:0.4f}\".format(Recall))\n",
    "#f1 Score\n",
    "f1 = (2*Precision*Recall)/(Precision + Recall)\n",
    "print(\"f1 Score: {:0.4f}\".format(f1))\n",
    "#Specificity \n",
    "Specificity = tn/(tn+fp)\n",
    "print(\"Specificity: {:0.4f}\".format(Specificity))"
   ]
  },
  {
   "cell_type": "code",
   "execution_count": 19,
   "metadata": {},
   "outputs": [],
   "source": [
    "#initialize a PassiveAggressiveClassifier\n",
    "linear_clf = PassiveAggressiveClassifier(max_iter=50)"
   ]
  },
  {
   "cell_type": "code",
   "execution_count": 20,
   "metadata": {},
   "outputs": [
    {
     "name": "stdout",
     "output_type": "stream",
     "text": [
      "accuracy:   0.927\n",
      "[[589  49]\n",
      " [ 43 586]]\n",
      "Confusion matrix, without normalization\n"
     ]
    },
    {
     "data": {
      "image/png": "[encoded data removed]",
      "text/plain": [
       "<Figure size 432x288 with 2 Axes>"
      ]
     },
     "metadata": {
      "needs_background": "light"
     },
     "output_type": "display_data"
    }
   ],
   "source": [
    "#newsdata - initialize a PassiveAggressiveClassifier for TfidfVectorizer\n",
    "linear_clf.fit(tfidf_train, y_train)\n",
    "pred = linear_clf.predict(tfidf_test)\n",
    "score = metrics.accuracy_score(y_test, pred)\n",
    "print(\"accuracy:   %0.3f\" % score)\n",
    "cm = metrics.confusion_matrix(y_test, pred, labels=['FAKE', 'REAL'])\n",
    "# Compute confusion matrix for CountVectorizer\n",
    "cnf_matrix3 = confusion_matrix(y_test, pred)\n",
    "print(cnf_matrix3)\n",
    "plot_confusion_matrix(cm, classes=['FAKE', 'REAL'])"
   ]
  },
  {
   "cell_type": "code",
   "execution_count": 21,
   "metadata": {},
   "outputs": [
    {
     "name": "stdout",
     "output_type": "stream",
     "text": [
      "True Negatives:  589\n",
      "False Positives:  49\n",
      "False Negatives:  43\n",
      "True Positives:  586\n"
     ]
    }
   ],
   "source": [
    "#extracting true_positives, false_positives, true_negatives, false_negatives\n",
    "tn, fp, fn, tp = confusion_matrix(y_test, pred).ravel()\n",
    "print(\"True Negatives: \",tn)\n",
    "print(\"False Positives: \",fp)\n",
    "print(\"False Negatives: \",fn)\n",
    "print(\"True Positives: \",tp)"
   ]
  },
  {
   "cell_type": "code",
   "execution_count": 22,
   "metadata": {},
   "outputs": [
    {
     "name": "stdout",
     "output_type": "stream",
     "text": [
      "Precision: 0.9228\n",
      "Recall: 0.9316\n",
      "f1 Score: 0.9272\n",
      "Specificity: 0.9232\n"
     ]
    }
   ],
   "source": [
    "#Precision \n",
    "Precision = tp/(tp+fp)\n",
    "print(\"Precision: {:0.4f}\".format(Precision))\n",
    "#Recall \n",
    "Recall = tp/(tp+fn) \n",
    "print(\"Recall: {:0.4f}\".format(Recall))\n",
    "#f1 Score\n",
    "f1 = (2*Precision*Recall)/(Precision + Recall)\n",
    "print(\"f1 Score: {:0.4f}\".format(f1))\n",
    "#Specificity \n",
    "Specificity = tn/(tn+fp)\n",
    "print(\"Specificity: {:0.4f}\".format(Specificity))"
   ]
  },
  {
   "cell_type": "code",
   "execution_count": 23,
   "metadata": {},
   "outputs": [
    {
     "name": "stdout",
     "output_type": "stream",
     "text": [
      "accuracy:   0.908\n",
      "[[569  69]\n",
      " [ 48 581]]\n",
      "Confusion matrix, without normalization\n"
     ]
    },
    {
     "data": {
      "image/png": "[encoded data removed]",
      "text/plain": [
       "<Figure size 432x288 with 2 Axes>"
      ]
     },
     "metadata": {
      "needs_background": "light"
     },
     "output_type": "display_data"
    }
   ],
   "source": [
    "#newsdata - initialize a PassiveAggressiveClassifier for CountVectorizer\n",
    "linear_clf.fit(count_train, y_train)\n",
    "pred = linear_clf.predict(count_test)\n",
    "score = metrics.accuracy_score(y_test, pred)\n",
    "print(\"accuracy:   %0.3f\" % score)\n",
    "cm = metrics.confusion_matrix(y_test, pred, labels=['FAKE', 'REAL'])\n",
    "# Compute confusion matrix for CountVectorizer\n",
    "cnf_matrix4 = confusion_matrix(y_test, pred)\n",
    "print(cnf_matrix4)\n",
    "plot_confusion_matrix(cm, classes=['FAKE', 'REAL'])"
   ]
  },
  {
   "cell_type": "code",
   "execution_count": 24,
   "metadata": {},
   "outputs": [
    {
     "name": "stdout",
     "output_type": "stream",
     "text": [
      "True Negatives:  569\n",
      "False Positives:  69\n",
      "False Negatives:  48\n",
      "True Positives:  581\n"
     ]
    }
   ],
   "source": [
    "#extracting true_positives, false_positives, true_negatives, false_negatives\n",
    "tn, fp, fn, tp = confusion_matrix(y_test, pred).ravel()\n",
    "print(\"True Negatives: \",tn)\n",
    "print(\"False Positives: \",fp)\n",
    "print(\"False Negatives: \",fn)\n",
    "print(\"True Positives: \",tp)"
   ]
  },
  {
   "cell_type": "code",
   "execution_count": 25,
   "metadata": {},
   "outputs": [
    {
     "name": "stdout",
     "output_type": "stream",
     "text": [
      "Precision: 0.8938\n",
      "Recall: 0.9237\n",
      "f1 Score: 0.9085\n",
      "Specificity: 0.8918\n"
     ]
    }
   ],
   "source": [
    "#Precision \n",
    "Precision = tp/(tp+fp)\n",
    "print(\"Precision: {:0.4f}\".format(Precision))\n",
    "#Recall \n",
    "Recall = tp/(tp+fn) \n",
    "print(\"Recall: {:0.4f}\".format(Recall))\n",
    "#f1 Score\n",
    "f1 = (2*Precision*Recall)/(Precision + Recall)\n",
    "print(\"f1 Score: {:0.4f}\".format(f1))\n",
    "#Specificity \n",
    "Specificity = tn/(tn+fp)\n",
    "print(\"Specificity: {:0.4f}\".format(Specificity))"
   ]
  },
  {
   "cell_type": "code",
   "execution_count": 26,
   "metadata": {},
   "outputs": [
    {
     "name": "stdout",
     "output_type": "stream",
     "text": [
      "FAKE -0.6266883372573328 posts\n",
      "FAKE -0.4937106253337851 losing\n",
      "FAKE -0.4646384594217646 share\n",
      "FAKE -0.45165335321716527 october\n",
      "FAKE -0.39878129249985317 article\n",
      "FAKE -0.3943006724759358 dark\n",
      "FAKE -0.35167100801642664 2016\n",
      "FAKE -0.3510830301022513 recent\n",
      "FAKE -0.3456944120561702 art\n",
      "FAKE -0.31752460019063067 com\n",
      "FAKE -0.31264646071274343 intimidation\n",
      "FAKE -0.3009990791529037 arrivals\n",
      "FAKE -0.30037378961827693 establishment\n",
      "FAKE -0.299987805112999 november\n",
      "FAKE -0.29722902018426206 source\n",
      "FAKE -0.29074305911717296 print\n",
      "FAKE -0.2894701860181788 add\n",
      "FAKE -0.2824875250007047 swipe\n",
      "FAKE -0.2797556268338981 comments\n",
      "FAKE -0.27477823012477093 video\n",
      "FAKE -0.2727270192298709 mosul\n",
      "FAKE -0.2717265721376592 wikileaks\n",
      "FAKE -0.2699464976688637 hillary\n",
      "FAKE -0.26226180118756187 pay\n",
      "FAKE -0.2546766743008932 daily\n",
      "FAKE -0.24605845319177655 bamforth\n",
      "FAKE -0.24472500647576573 adrian\n",
      "FAKE -0.2405763700623754 watch\n",
      "FAKE -0.24014151927272026 left\n",
      "FAKE -0.23774715386931264 28\n",
      "\n",
      "REAL 0.5542086220909784 rush\n",
      "REAL 0.4478175459846462 feuds\n",
      "REAL 0.3827701945717275 march\n",
      "REAL 0.33909510981518176 gop\n",
      "REAL 0.32846753762077585 friday\n",
      "REAL 0.31604116388522563 momentum\n",
      "REAL 0.3133035231229041 ditch\n",
      "REAL 0.2954833949759008 candidates\n",
      "REAL 0.28923294121587967 twitter\n",
      "REAL 0.2834216815479103 easier\n",
      "REAL 0.2765550830059922 marriage\n",
      "REAL 0.2746632504387238 exchanges\n",
      "REAL 0.27067786266269567 fits\n",
      "REAL 0.2705357834144986 gaining\n",
      "REAL 0.2640051007715777 message\n",
      "REAL 0.2617462848616936 protective\n",
      "REAL 0.2607958124603187 ohio\n",
      "REAL 0.25913542453675065 labor\n",
      "REAL 0.2568002583679773 executives\n",
      "REAL 0.2543058217363795 thing\n",
      "REAL 0.2534758230531642 wisconsin\n",
      "REAL 0.2515342974309045 london\n",
      "REAL 0.2503398766434744 walker\n",
      "REAL 0.24807564462212905 reform\n",
      "REAL 0.24711961382427552 fared\n",
      "REAL 0.24435054188006736 negotiation\n",
      "REAL 0.24223085454332924 graphic\n",
      "REAL 0.241479065541769 conservative\n",
      "REAL 0.24053969067427367 takes\n",
      "REAL 0.24022393872315992 jobs\n"
     ]
    }
   ],
   "source": [
    "#most no of fake and real news\n",
    "def most_informative_feature_for_binary_classification(vectorizer, classifier, n=100):\n",
    "    \"\"\"\n",
    "    See: https://stackoverflow.com/a/26980472\n",
    "    \n",
    "    Identify most important features if given a vectorizer and binary classifier. Set n to the number\n",
    "    of weighted features you would like to show. (Note: current implementation merely prints and does not \n",
    "    return top classes.)\n",
    "    \"\"\"\n",
    "\n",
    "    class_labels = classifier.classes_\n",
    "    feature_names = vectorizer.get_feature_names()\n",
    "    topn_class1 = sorted(zip(classifier.coef_[0], feature_names))[:n]\n",
    "    topn_class2 = sorted(zip(classifier.coef_[0], feature_names))[-n:]\n",
    "\n",
    "    for coef, feat in topn_class1:\n",
    "        print(class_labels[0], coef, feat)\n",
    "\n",
    "    print()\n",
    "\n",
    "    for coef, feat in reversed(topn_class2):\n",
    "        print(class_labels[1], coef, feat)\n",
    "\n",
    "\n",
    "most_informative_feature_for_binary_classification(tfidf_vectorizer, linear_clf, n=30)"
   ]
  },
  {
   "cell_type": "code",
   "execution_count": 27,
   "metadata": {},
   "outputs": [],
   "source": [
    "feature_names = tfidf_vectorizer.get_feature_names()"
   ]
  },
  {
   "cell_type": "code",
   "execution_count": 28,
   "metadata": {},
   "outputs": [
    {
     "data": {
      "text/plain": [
       "[(-16.272226130581554, '000035'),\n",
       " (-16.272226130581554, '0001'),\n",
       " (-16.272226130581554, '0001pt'),\n",
       " (-16.272226130581554, '0002'),\n",
       " (-16.272226130581554, '000billion'),\n",
       " (-16.272226130581554, '0011'),\n",
       " (-16.272226130581554, '004s'),\n",
       " (-16.272226130581554, '005'),\n",
       " (-16.272226130581554, '005s'),\n",
       " (-16.272226130581554, '00684'),\n",
       " (-16.272226130581554, '006s'),\n",
       " (-16.272226130581554, '007'),\n",
       " (-16.272226130581554, '007s'),\n",
       " (-16.272226130581554, '008s'),\n",
       " (-16.272226130581554, '0099'),\n",
       " (-16.272226130581554, '00am'),\n",
       " (-16.272226130581554, '00p'),\n",
       " (-16.272226130581554, '00pm'),\n",
       " (-16.272226130581554, '013c2812c9'),\n",
       " (-16.272226130581554, '014')]"
      ]
     },
     "execution_count": 28,
     "metadata": {},
     "output_type": "execute_result"
    }
   ],
   "source": [
    "### Most fake\n",
    "sorted(zip(clf.coef_[0], feature_names))[:20]"
   ]
  },
  {
   "cell_type": "code",
   "execution_count": 29,
   "metadata": {},
   "outputs": [
    {
     "data": {
      "text/plain": [
       "[(-4.425109600312677, 'said'),\n",
       " (-4.522246319612897, 'trump'),\n",
       " (-4.913489679506659, 'clinton'),\n",
       " (-5.433999076102811, 'people'),\n",
       " (-5.43734250839567, 'state'),\n",
       " (-5.474468531540541, 'president'),\n",
       " (-5.518993714015171, 'obama'),\n",
       " (-5.522634286821445, 'new'),\n",
       " (-5.54871648515088, 'campaign'),\n",
       " (-5.6934753665840425, 'republican'),\n",
       " (-5.790413196932821, 'party'),\n",
       " (-5.904344402407975, 'time'),\n",
       " (-5.910333199226768, 'like'),\n",
       " (-5.927230878590333, 'states'),\n",
       " (-5.938548337550461, 'sanders'),\n",
       " (-5.938873583113727, 'just'),\n",
       " (-6.0240501866528735, 'house'),\n",
       " (-6.045894498625599, 'percent'),\n",
       " (-6.0649002240255605, 'political'),\n",
       " (-6.1210585238863136, 'cruz')]"
      ]
     },
     "execution_count": 29,
     "metadata": {},
     "output_type": "execute_result"
    }
   ],
   "source": [
    "### Most real\n",
    "sorted(zip(clf.coef_[0], feature_names), reverse=True)[:20]"
   ]
  },
  {
   "cell_type": "code",
   "execution_count": 30,
   "metadata": {},
   "outputs": [],
   "source": [
    "mn_count_clf = MultinomialNB(alpha=0.1)\n",
    "mn_tfidf_clf = MultinomialNB(alpha=0.1)\n",
    "pa_count_clf = PassiveAggressiveClassifier(max_iter=50)\n",
    "pa_tfidf_clf = PassiveAggressiveClassifier(max_iter=50)"
   ]
  },
  {
   "cell_type": "code",
   "execution_count": 31,
   "metadata": {},
   "outputs": [
    {
     "name": "stdout",
     "output_type": "stream",
     "text": [
      "accuracy:   0.896\n"
     ]
    }
   ],
   "source": [
    "mn_count_clf.fit(count_train, y_train)\n",
    "pred = mn_count_clf.predict(count_test)\n",
    "score = metrics.accuracy_score(y_test, pred)\n",
    "print(\"accuracy:   %0.3f\" % score)"
   ]
  },
  {
   "cell_type": "code",
   "execution_count": 32,
   "metadata": {},
   "outputs": [
    {
     "name": "stdout",
     "output_type": "stream",
     "text": [
      "accuracy:   0.904\n"
     ]
    }
   ],
   "source": [
    "mn_tfidf_clf.fit(tfidf_train, y_train)\n",
    "pred = mn_tfidf_clf.predict(tfidf_test)\n",
    "score = metrics.accuracy_score(y_test, pred)\n",
    "print(\"accuracy:   %0.3f\" % score)"
   ]
  },
  {
   "cell_type": "code",
   "execution_count": 33,
   "metadata": {},
   "outputs": [
    {
     "name": "stdout",
     "output_type": "stream",
     "text": [
      "accuracy:   0.904\n"
     ]
    }
   ],
   "source": [
    "pa_count_clf.fit(count_train, y_train)\n",
    "pred = pa_count_clf.predict(count_test)\n",
    "score = metrics.accuracy_score(y_test, pred)\n",
    "print(\"accuracy:   %0.3f\" % score)"
   ]
  },
  {
   "cell_type": "code",
   "execution_count": 34,
   "metadata": {},
   "outputs": [
    {
     "name": "stdout",
     "output_type": "stream",
     "text": [
      "accuracy:   0.927\n"
     ]
    }
   ],
   "source": [
    "pa_tfidf_clf.fit(tfidf_train, y_train)\n",
    "pred = pa_tfidf_clf.predict(tfidf_test)\n",
    "score = metrics.accuracy_score(y_test, pred)\n",
    "print(\"accuracy:   %0.3f\" % score)"
   ]
  },
  {
   "cell_type": "code",
   "execution_count": 35,
   "metadata": {},
   "outputs": [],
   "source": [
    "mn_count_clf.predict_proba?"
   ]
  },
  {
   "cell_type": "code",
   "execution_count": 36,
   "metadata": {},
   "outputs": [],
   "source": [
    "mn_tfidf_clf.predict_proba?"
   ]
  },
  {
   "cell_type": "code",
   "execution_count": 37,
   "metadata": {},
   "outputs": [],
   "source": [
    "pa_count_clf.decision_function?"
   ]
  },
  {
   "cell_type": "code",
   "execution_count": 38,
   "metadata": {},
   "outputs": [],
   "source": [
    "pa_tfidf_clf.decision_function?"
   ]
  },
  {
   "cell_type": "code",
   "execution_count": 39,
   "metadata": {},
   "outputs": [
    {
     "name": "stdout",
     "output_type": "stream",
     "text": [
      "multinomial nb count : ROC AUC =0.943\n",
      "multinomial nb tfidf : ROC AUC =0.974\n",
      "passive aggressive count : ROC AUC =0.965\n",
      "passive aggressive tfidf : ROC AUC =0.984\n"
     ]
    },
    {
     "data": {
      "image/png": "[encoded data removed]",
      "text/plain": [
       "<Figure size 432x288 with 1 Axes>"
      ]
     },
     "metadata": {
      "needs_background": "light"
     },
     "output_type": "display_data"
    }
   ],
   "source": [
    "#roc curve plot\n",
    "plt.figure(0).clf()\n",
    "\n",
    "for model, name in [ (mn_count_clf, 'multinomial nb count'),\n",
    "                     (mn_tfidf_clf, 'multinomial nb tfidf'),\n",
    "                     (pa_count_clf, 'passive aggressive count'),\n",
    "                     (pa_tfidf_clf, 'passive aggressive tfidf')]:\n",
    "    if 'multinomial' in name:\n",
    "        pred = model.predict_proba(count_test)[:,1]\n",
    "        pred = model.predict_proba(tfidf_test)[:,1]\n",
    "    else:\n",
    "        pred = model.decision_function(count_test) \n",
    "        pred = model.decision_function(tfidf_test)\n",
    "    fpr, tpr, thresh = metrics.roc_curve(y_test.values, pred, pos_label='REAL')\n",
    "    plt.plot(fpr,tpr,label=\"{}\".format(name))\n",
    "\n",
    "plt.xlabel('False Positive Rate')\n",
    "plt.ylabel('True Positive Rate')\n",
    "plt.title('Roc Curve For Classifiers')\n",
    "plt.legend(loc=0)\n",
    "\n",
    "\n",
    "#roc_auc_score determine\n",
    "pred = mn_count_clf.predict_proba(count_test)[:,1]\n",
    "lr_auc1=metrics.roc_auc_score(y_test.values,pred)\n",
    "print('multinomial nb count : ROC AUC =%.3f' % (lr_auc1))\n",
    "pred = mn_tfidf_clf.predict_proba(tfidf_test)[:,1]\n",
    "lr_auc2=metrics.roc_auc_score(y_test.values,pred)\n",
    "print('multinomial nb tfidf : ROC AUC =%.3f' % (lr_auc2))\n",
    "pred = pa_count_clf.decision_function(count_test)\n",
    "lr_auc3=metrics.roc_auc_score(y_test.values,pred)\n",
    "print('passive aggressive count : ROC AUC =%.3f' % (lr_auc3))\n",
    "pred = pa_tfidf_clf.decision_function(tfidf_test)\n",
    "lr_auc4=metrics.roc_auc_score(y_test.values,pred)\n",
    "print('passive aggressive tfidf : ROC AUC =%.3f' % (lr_auc4))"
   ]
  },
  {
   "cell_type": "code",
   "execution_count": 40,
   "metadata": {},
   "outputs": [
    {
     "data": {
      "text/plain": [
       "{'FAKE': [(-5.75262481957928, '2016'),\n",
       "  (-5.013395767858511, 'october'),\n",
       "  (-3.3317257993521103, 'share'),\n",
       "  (-3.1820089432261827, 'november'),\n",
       "  (-3.1797842442085833, 'hillary'),\n",
       "  (-3.166170786600595, 'election'),\n",
       "  (-2.98624689630123, 'article'),\n",
       "  (-2.7660263445195885, 'establishment'),\n",
       "  (-2.622800113119332, 'source'),\n",
       "  (-2.6008732183439367, 'advertisement')],\n",
       " 'REAL': [(2.2081239496198077, 'tuesday'),\n",
       "  (2.2393404470471086, 'march'),\n",
       "  (2.3409065304458325, 'rush'),\n",
       "  (2.5316800802138326, 'candidates'),\n",
       "  (2.774128444835958, 'friday'),\n",
       "  (2.795466506249762, 'gop'),\n",
       "  (2.859657787244346, 'conservative'),\n",
       "  (3.032373662107259, 'marriage'),\n",
       "  (3.2988305717585407, 'says'),\n",
       "  (4.885489173724793, 'said')]}"
      ]
     },
     "execution_count": 40,
     "metadata": {},
     "output_type": "execute_result"
    }
   ],
   "source": [
    "def most_informative_feature_for_binary_classification(vectorizer, classifier, n=100):    \n",
    "    \"\"\"\n",
    "    See: https://stackoverflow.com/a/26980472\n",
    "    \n",
    "    Identify most important features if given a vectorizer and binary classifier. Set n to the number\n",
    "    of weighted features you would like to show. (Note: current implementation merely prints and does not \n",
    "    return top classes.)\n",
    "    \n",
    "    Modified by @kjam to support a dict return.\n",
    "    \"\"\"\n",
    "\n",
    "    class_labels = classifier.classes_\n",
    "    feature_names = vectorizer.get_feature_names()\n",
    "    topn_class1 = sorted(zip(classifier.coef_[0], feature_names))[:n]\n",
    "    topn_class2 = sorted(zip(classifier.coef_[0], feature_names))[-n:]\n",
    "\n",
    "    return {class_labels[0]: topn_class1,\n",
    "            class_labels[1]: topn_class2\n",
    "    }\n",
    "\n",
    "\n",
    "most_informative_feature_for_binary_classification(tfidf_vectorizer, pa_tfidf_clf, n=10)"
   ]
  },
  {
   "cell_type": "code",
   "execution_count": 41,
   "metadata": {},
   "outputs": [],
   "source": [
    "classifiers = [(mn_count_clf, count_vectorizer),\n",
    "               (mn_tfidf_clf, tfidf_vectorizer),\n",
    "               (pa_count_clf, count_vectorizer),\n",
    "               (pa_tfidf_clf, tfidf_vectorizer)]                               "
   ]
  },
  {
   "cell_type": "code",
   "execution_count": 42,
   "metadata": {},
   "outputs": [],
   "source": [
    "results = {}\n",
    "for clf, vct in classifiers:\n",
    "    results[clf] = most_informative_feature_for_binary_classification(vct, clf, n=10)"
   ]
  },
  {
   "cell_type": "code",
   "execution_count": 43,
   "metadata": {},
   "outputs": [
    {
     "data": {
      "text/plain": [
       "{MultinomialNB(alpha=0.1): {'FAKE': [(-16.272226130581554, '000035'),\n",
       "   (-16.272226130581554, '0001'),\n",
       "   (-16.272226130581554, '0001pt'),\n",
       "   (-16.272226130581554, '0002'),\n",
       "   (-16.272226130581554, '000billion'),\n",
       "   (-16.272226130581554, '0011'),\n",
       "   (-16.272226130581554, '004s'),\n",
       "   (-16.272226130581554, '005'),\n",
       "   (-16.272226130581554, '005s'),\n",
       "   (-16.272226130581554, '00684')],\n",
       "  'REAL': [(-5.6934753665840425, 'republican'),\n",
       "   (-5.54871648515088, 'campaign'),\n",
       "   (-5.522634286821445, 'new'),\n",
       "   (-5.518993714015171, 'obama'),\n",
       "   (-5.474468531540541, 'president'),\n",
       "   (-5.43734250839567, 'state'),\n",
       "   (-5.433999076102811, 'people'),\n",
       "   (-4.913489679506659, 'clinton'),\n",
       "   (-4.522246319612897, 'trump'),\n",
       "   (-4.425109600312677, 'said')]},\n",
       " MultinomialNB(alpha=0.1): {'FAKE': [(-12.818865656435252, '000035'),\n",
       "   (-12.818865656435252, '0001'),\n",
       "   (-12.818865656435252, '0001pt'),\n",
       "   (-12.818865656435252, '0002'),\n",
       "   (-12.818865656435252, '000billion'),\n",
       "   (-12.818865656435252, '0011'),\n",
       "   (-12.818865656435252, '004s'),\n",
       "   (-12.818865656435252, '005'),\n",
       "   (-12.818865656435252, '005s'),\n",
       "   (-12.818865656435252, '00684')],\n",
       "  'REAL': [(-6.410540166008516, 'state'),\n",
       "   (-6.396135341647598, 'republican'),\n",
       "   (-6.393493521098446, 'cruz'),\n",
       "   (-6.333059760997618, 'president'),\n",
       "   (-6.330953952408413, 'campaign'),\n",
       "   (-6.303636787104281, 'sanders'),\n",
       "   (-6.15968111275192, 'obama'),\n",
       "   (-5.752608688750501, 'clinton'),\n",
       "   (-5.586515713472663, 'said'),\n",
       "   (-5.309319249771196, 'trump')]},\n",
       " PassiveAggressiveClassifier(max_iter=50): {'FAKE': [(-0.640675938966507,\n",
       "    'posts'),\n",
       "   (-0.4740651815094606, 'losing'),\n",
       "   (-0.44119956779118796, 'article'),\n",
       "   (-0.4288954451871022, 'october'),\n",
       "   (-0.41667721970769955, 'share'),\n",
       "   (-0.3932222695738342, 'dark'),\n",
       "   (-0.36432852714904435, 'art'),\n",
       "   (-0.34713881002722735, '2016'),\n",
       "   (-0.33834384284500424, 'recent'),\n",
       "   (-0.32704195349791576, 'comments')],\n",
       "  'REAL': [(0.29215919311890887, 'marriage'),\n",
       "   (0.2929210673710626, 'easier'),\n",
       "   (0.3122506238648718, 'candidates'),\n",
       "   (0.31818943516270726, 'ditch'),\n",
       "   (0.32106574645772523, 'friday'),\n",
       "   (0.3308284769890873, 'gop'),\n",
       "   (0.3391468110288233, 'momentum'),\n",
       "   (0.37352306332830587, 'march'),\n",
       "   (0.43147127190487505, 'feuds'),\n",
       "   (0.5432818316100911, 'rush')]},\n",
       " PassiveAggressiveClassifier(max_iter=50): {'FAKE': [(-5.75262481957928,\n",
       "    '2016'),\n",
       "   (-5.013395767858511, 'october'),\n",
       "   (-3.3317257993521103, 'share'),\n",
       "   (-3.1820089432261827, 'november'),\n",
       "   (-3.1797842442085833, 'hillary'),\n",
       "   (-3.166170786600595, 'election'),\n",
       "   (-2.98624689630123, 'article'),\n",
       "   (-2.7660263445195885, 'establishment'),\n",
       "   (-2.622800113119332, 'source'),\n",
       "   (-2.6008732183439367, 'advertisement')],\n",
       "  'REAL': [(2.2081239496198077, 'tuesday'),\n",
       "   (2.2393404470471086, 'march'),\n",
       "   (2.3409065304458325, 'rush'),\n",
       "   (2.5316800802138326, 'candidates'),\n",
       "   (2.774128444835958, 'friday'),\n",
       "   (2.795466506249762, 'gop'),\n",
       "   (2.859657787244346, 'conservative'),\n",
       "   (3.032373662107259, 'marriage'),\n",
       "   (3.2988305717585407, 'says'),\n",
       "   (4.885489173724793, 'said')]}}"
      ]
     },
     "execution_count": 43,
     "metadata": {},
     "output_type": "execute_result"
    }
   ],
   "source": [
    "results"
   ]
  },
  {
   "cell_type": "code",
   "execution_count": 44,
   "metadata": {},
   "outputs": [],
   "source": [
    "comparable_results = {'REAL': {}, 'FAKE': {}}\n",
    "for clf, data in results.items():\n",
    "    clf_name = clf.__class__.__name__\n",
    "    for label, features in data.items():\n",
    "        for rank, score_tuple in enumerate(features):\n",
    "            if score_tuple[1] in comparable_results[label]:\n",
    "                comparable_results[label][score_tuple[1]].append((rank + 1, clf_name))\n",
    "            else:\n",
    "                comparable_results[label][score_tuple[1]] = [(rank + 1, clf_name)]"
   ]
  },
  {
   "cell_type": "code",
   "execution_count": 45,
   "metadata": {},
   "outputs": [],
   "source": [
    "agg_results = {}\n",
    "for label, features in comparable_results.items():\n",
    "    for feature, ranks in features.items():\n",
    "        if feature in agg_results:\n",
    "            print(\"WARNING! DUPLICATE LABEL!!! {}\".format(feature))\n",
    "        agg_results[feature] = {\n",
    "            'label': label,\n",
    "            'agg_rank': np.mean([r[0] for r in ranks]),\n",
    "            'count': len(ranks)\n",
    "        }"
   ]
  },
  {
   "cell_type": "code",
   "execution_count": 46,
   "metadata": {},
   "outputs": [],
   "source": [
    "comparison_df = pd.DataFrame(agg_results).T"
   ]
  },
  {
   "cell_type": "code",
   "execution_count": 47,
   "metadata": {},
   "outputs": [
    {
     "data": {
      "text/html": [
       "<div>\n",
       "<style scoped>\n",
       "    .dataframe tbody tr th:only-of-type {\n",
       "        vertical-align: middle;\n",
       "    }\n",
       "\n",
       "    .dataframe tbody tr th {\n",
       "        vertical-align: top;\n",
       "    }\n",
       "\n",
       "    .dataframe thead th {\n",
       "        text-align: right;\n",
       "    }\n",
       "</style>\n",
       "<table border=\"1\" class=\"dataframe\">\n",
       "  <thead>\n",
       "    <tr style=\"text-align: right;\">\n",
       "      <th></th>\n",
       "      <th>label</th>\n",
       "      <th>agg_rank</th>\n",
       "      <th>count</th>\n",
       "    </tr>\n",
       "  </thead>\n",
       "  <tbody>\n",
       "    <tr>\n",
       "      <td>said</td>\n",
       "      <td>REAL</td>\n",
       "      <td>9.66667</td>\n",
       "      <td>3</td>\n",
       "    </tr>\n",
       "    <tr>\n",
       "      <td>republican</td>\n",
       "      <td>REAL</td>\n",
       "      <td>1.5</td>\n",
       "      <td>2</td>\n",
       "    </tr>\n",
       "    <tr>\n",
       "      <td>rush</td>\n",
       "      <td>REAL</td>\n",
       "      <td>6.5</td>\n",
       "      <td>2</td>\n",
       "    </tr>\n",
       "    <tr>\n",
       "      <td>march</td>\n",
       "      <td>REAL</td>\n",
       "      <td>5</td>\n",
       "      <td>2</td>\n",
       "    </tr>\n",
       "    <tr>\n",
       "      <td>gop</td>\n",
       "      <td>REAL</td>\n",
       "      <td>6</td>\n",
       "      <td>2</td>\n",
       "    </tr>\n",
       "    <tr>\n",
       "      <td>friday</td>\n",
       "      <td>REAL</td>\n",
       "      <td>5</td>\n",
       "      <td>2</td>\n",
       "    </tr>\n",
       "    <tr>\n",
       "      <td>candidates</td>\n",
       "      <td>REAL</td>\n",
       "      <td>3.5</td>\n",
       "      <td>2</td>\n",
       "    </tr>\n",
       "    <tr>\n",
       "      <td>campaign</td>\n",
       "      <td>REAL</td>\n",
       "      <td>3.5</td>\n",
       "      <td>2</td>\n",
       "    </tr>\n",
       "    <tr>\n",
       "      <td>marriage</td>\n",
       "      <td>REAL</td>\n",
       "      <td>4.5</td>\n",
       "      <td>2</td>\n",
       "    </tr>\n",
       "    <tr>\n",
       "      <td>trump</td>\n",
       "      <td>REAL</td>\n",
       "      <td>9.5</td>\n",
       "      <td>2</td>\n",
       "    </tr>\n",
       "  </tbody>\n",
       "</table>\n",
       "</div>"
      ],
      "text/plain": [
       "           label agg_rank count\n",
       "said        REAL  9.66667     3\n",
       "republican  REAL      1.5     2\n",
       "rush        REAL      6.5     2\n",
       "march       REAL        5     2\n",
       "gop         REAL        6     2\n",
       "friday      REAL        5     2\n",
       "candidates  REAL      3.5     2\n",
       "campaign    REAL      3.5     2\n",
       "marriage    REAL      4.5     2\n",
       "trump       REAL      9.5     2"
      ]
     },
     "execution_count": 47,
     "metadata": {},
     "output_type": "execute_result"
    }
   ],
   "source": [
    "comparison_df[comparison_df['label'] == 'REAL'].sort_values('count', ascending=0).head(10)"
   ]
  },
  {
   "cell_type": "code",
   "execution_count": 48,
   "metadata": {},
   "outputs": [
    {
     "data": {
      "text/html": [
       "<div>\n",
       "<style scoped>\n",
       "    .dataframe tbody tr th:only-of-type {\n",
       "        vertical-align: middle;\n",
       "    }\n",
       "\n",
       "    .dataframe tbody tr th {\n",
       "        vertical-align: top;\n",
       "    }\n",
       "\n",
       "    .dataframe thead th {\n",
       "        text-align: right;\n",
       "    }\n",
       "</style>\n",
       "<table border=\"1\" class=\"dataframe\">\n",
       "  <thead>\n",
       "    <tr style=\"text-align: right;\">\n",
       "      <th></th>\n",
       "      <th>label</th>\n",
       "      <th>agg_rank</th>\n",
       "      <th>count</th>\n",
       "    </tr>\n",
       "  </thead>\n",
       "  <tbody>\n",
       "    <tr>\n",
       "      <td>000035</td>\n",
       "      <td>FAKE</td>\n",
       "      <td>1</td>\n",
       "      <td>2</td>\n",
       "    </tr>\n",
       "    <tr>\n",
       "      <td>005s</td>\n",
       "      <td>FAKE</td>\n",
       "      <td>9</td>\n",
       "      <td>2</td>\n",
       "    </tr>\n",
       "    <tr>\n",
       "      <td>2016</td>\n",
       "      <td>FAKE</td>\n",
       "      <td>4.5</td>\n",
       "      <td>2</td>\n",
       "    </tr>\n",
       "    <tr>\n",
       "      <td>share</td>\n",
       "      <td>FAKE</td>\n",
       "      <td>4</td>\n",
       "      <td>2</td>\n",
       "    </tr>\n",
       "    <tr>\n",
       "      <td>0001</td>\n",
       "      <td>FAKE</td>\n",
       "      <td>2</td>\n",
       "      <td>2</td>\n",
       "    </tr>\n",
       "    <tr>\n",
       "      <td>article</td>\n",
       "      <td>FAKE</td>\n",
       "      <td>5</td>\n",
       "      <td>2</td>\n",
       "    </tr>\n",
       "    <tr>\n",
       "      <td>00684</td>\n",
       "      <td>FAKE</td>\n",
       "      <td>10</td>\n",
       "      <td>2</td>\n",
       "    </tr>\n",
       "    <tr>\n",
       "      <td>october</td>\n",
       "      <td>FAKE</td>\n",
       "      <td>3</td>\n",
       "      <td>2</td>\n",
       "    </tr>\n",
       "    <tr>\n",
       "      <td>005</td>\n",
       "      <td>FAKE</td>\n",
       "      <td>8</td>\n",
       "      <td>2</td>\n",
       "    </tr>\n",
       "    <tr>\n",
       "      <td>000billion</td>\n",
       "      <td>FAKE</td>\n",
       "      <td>5</td>\n",
       "      <td>2</td>\n",
       "    </tr>\n",
       "  </tbody>\n",
       "</table>\n",
       "</div>"
      ],
      "text/plain": [
       "           label agg_rank count\n",
       "000035      FAKE        1     2\n",
       "005s        FAKE        9     2\n",
       "2016        FAKE      4.5     2\n",
       "share       FAKE        4     2\n",
       "0001        FAKE        2     2\n",
       "article     FAKE        5     2\n",
       "00684       FAKE       10     2\n",
       "october     FAKE        3     2\n",
       "005         FAKE        8     2\n",
       "000billion  FAKE        5     2"
      ]
     },
     "execution_count": 48,
     "metadata": {},
     "output_type": "execute_result"
    }
   ],
   "source": [
    "comparison_df[comparison_df['label'] == 'FAKE'].sort_values('count', ascending=0).head(10)"
   ]
  },
  {
   "cell_type": "code",
   "execution_count": null,
   "metadata": {},
   "outputs": [],
   "source": []
  },
  {
   "cell_type": "code",
   "execution_count": null,
   "metadata": {},
   "outputs": [],
   "source": []
  },
  {
   "cell_type": "code",
   "execution_count": null,
   "metadata": {},
   "outputs": [],
   "source": []
  },
  {
   "cell_type": "code",
   "execution_count": null,
   "metadata": {},
   "outputs": [],
   "source": []
  }
 ],
 "metadata": {
  "kernelspec": {
   "display_name": "Python 3",
   "language": "python",
   "name": "python3"
  },
  "language_info": {
   "codemirror_mode": {
    "name": "ipython",
    "version": 3
   },
   "file_extension": ".py",
   "mimetype": "text/x-python",
   "name": "python",
   "nbconvert_exporter": "python",
   "pygments_lexer": "ipython3",
   "version": "3.7.4"
  }
 },
 "nbformat": 4,
 "nbformat_minor": 2
}
